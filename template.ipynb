{
  "cells": [
    {
      "cell_type": "raw",
      "metadata": {},
      "source": [
        "---\n",
        "title: 'Lab 5: Sea-Level Rise'\n",
        "author: Patricia Hashimoto (pch3)>\n",
        "date: '2024-02-16'\n",
        "format:\n",
        "  html: default\n",
        "  pdf:\n",
        "    documentclass: article\n",
        "    fontsize: 11pt\n",
        "    geometry:\n",
        "      - margin=1in\n",
        "    number-sections: true\n",
        "    code-line-numbers: true\n",
        "date-format: 'ddd., MMM. D'\n",
        "bibliography: references.bib\n",
        "---"
      ],
      "id": "c835dd34"
    },
    {
      "cell_type": "markdown",
      "metadata": {},
      "source": [
        "# Setup\n",
        "\n",
        "## The usual\n",
        "\n",
        "As always:\n",
        "\n",
        "1. Clone the lab repository to your computer\n",
        "1. Open the lab repository in VS Code\n",
        "1. Open the Julia REPL and activate, then instantiate, the lab environment\n",
        "1. Make sure you can render: `quarto render template.qmd` in the terminal.\n",
        "    - If you run into issues, try running `] build IJulia` in the Julia REPL (`]` enters the package manager).\n",
        "    - If you still have issues, try opening up `blankfile.py`. That should trigger VS Code to give you the option to install the Python extension, which you should do. Then you should be able to open a menu in the bottom right of your screen to select which Python installation you want VS Code to use.\n",
        "\n",
        "\n",
        "## Load packages\n"
      ],
      "id": "b15628f9"
    },
    {
      "cell_type": "code",
      "metadata": {},
      "source": [
        "using CSV\n",
        "using DataFrames\n",
        "using DataFramesMeta\n",
        "using Distributions\n",
        "using Plots\n",
        "using StatsPlots\n",
        "using Unitful\n",
        "\n",
        "Plots.default(; margin=5Plots.mm)"
      ],
      "id": "b5db28cb",
      "execution_count": null,
      "outputs": []
    },
    {
      "cell_type": "markdown",
      "metadata": {},
      "source": [
        "## Local package\n"
      ],
      "id": "fc22f4da"
    },
    {
      "cell_type": "code",
      "metadata": {},
      "source": [
        "using Revise\n",
        "using HouseElevation"
      ],
      "id": "cf131e18",
      "execution_count": null,
      "outputs": []
    },
    {
      "cell_type": "markdown",
      "metadata": {},
      "source": [
        "The house investigated in this model is at 415 Christopher Columbus Blvd, Galveston, TX 77550. According to Zillow, the interior of this house is 1,726 sqft and the value of the house is about $331,000. Google Maps estimates that this house is 3,243 ft from Galveston Pier 21, TX Station 8771450, which is located at Galveston Pier 21, TX - Station ID: 8771450. The USGS National Map Viewer estimates that the elevation of the house is about 5.86 ft, which I round to 6 ft. The depth-damage curve will be estimated using a HAZUS model. The house is two story and has no basement, according to Zillow, so the curve used will be the Galveston district curve for a two-story residential building with no basement.\n"
      ],
      "id": "950eaaea"
    },
    {
      "cell_type": "code",
      "metadata": {},
      "source": [
        "#| output: false\n",
        "house = let\n",
        "    haz_fl_dept = CSV.read(\"data/haz_fl_dept.csv\", DataFrame) # read in the file\n",
        "    desc = \"two story, no basement, Contents\"\n",
        "    source = \"USACE - Galveston\"\n",
        "    row = @rsubset(haz_fl_dept, :Description == desc, :Source == source)[1, :] # select the row I want\n",
        "    area = 1726u\"ft^2\"\n",
        "    height_above_gauge = 6u\"ft\"\n",
        "    House(\n",
        "        row;\n",
        "        area=area,\n",
        "        height_above_gauge=height_above_gauge,\n",
        "        value_usd=331_000,\n",
        "    )\n",
        "end"
      ],
      "id": "063ba41d",
      "execution_count": null,
      "outputs": []
    },
    {
      "cell_type": "code",
      "metadata": {},
      "source": [
        "include(\"depthdamage.jl\")\n",
        "\n",
        "let\n",
        "    haz_fl_dept = CSV.read(\"data/haz_fl_dept.csv\", DataFrame) # read in the file\n",
        "    desc = \"two story, no basement, Contents\"\n",
        "    source = \"USACE - Galveston\"\n",
        "    row = @rsubset(haz_fl_dept, :Description == desc, :Source == source)[1, :]\n",
        "    house_dd = DepthDamageData(row)\n",
        "    plot(\n",
        "        house_dd.depths,\n",
        "        house_dd.damages;\n",
        "        xlabel=\"Flood Depth at Building\",\n",
        "        ylabel=\"Damage (%)\",\n",
        "        label=\"$(house_dd.description) ($(house_dd.source))\",\n",
        "        legend=:bottomright,\n",
        "        size=(700, 500),\n",
        "        title = \"415 Christopher Columbus Damage-Damage Curve\"\n",
        "    )\n",
        "end"
      ],
      "id": "f89e21bf",
      "execution_count": null,
      "outputs": []
    },
    {
      "cell_type": "code",
      "metadata": {},
      "source": [
        "#| code-fold: true\n",
        "let\n",
        "    depths = uconvert.(u\"ft\", (-7.0u\"ft\"):(1.0u\"inch\"):(30.0u\"ft\"))\n",
        "    damages = house.ddf.(depths) ./ 100\n",
        "    damages_1000_usd = damages .* house.value_usd ./ 1000\n",
        "    scatter(\n",
        "        depths,\n",
        "        damages_1000_usd;\n",
        "        xlabel=\"Flood Depth\",\n",
        "        ylabel=\"Damage (Thousand USD)\",\n",
        "        label=\"$(house.description)\\n($(house.source))\",\n",
        "        legend=:bottomright,\n",
        "        size=(800, 400),\n",
        "        yformatter=:plain,\n",
        "        title = \"Damage at Given Flood Depth\"\n",
        "    )\n",
        "end"
      ],
      "id": "a0f3517a",
      "execution_count": null,
      "outputs": []
    },
    {
      "cell_type": "code",
      "metadata": {},
      "source": [
        "let\n",
        "    elevations = 0u\"ft\":0.25u\"ft\":14u\"ft\"\n",
        "    costs = [elevation_cost(house, eᵢ) for eᵢ in elevations]\n",
        "    scatter(\n",
        "        elevations,\n",
        "        costs ./ 1_000;\n",
        "        xlabel=\"Elevation\",\n",
        "        ylabel=\"Cost (Thousand USD)\",\n",
        "        label=\"$(house.description)\\n($(house.source))\",\n",
        "        legend=:bottomright,\n",
        "        size=(800, 400),\n",
        "        yformatter=:plain,\n",
        "        title = \"Cost of Elevating House\"\n",
        "    )\n",
        "end"
      ],
      "id": "045ea624",
      "execution_count": null,
      "outputs": []
    },
    {
      "cell_type": "markdown",
      "metadata": {},
      "source": [
        "2. Read in the sea-level rise data\n"
      ],
      "id": "11100b1d"
    },
    {
      "cell_type": "code",
      "metadata": {},
      "source": [
        "#| output: false\n",
        "slr_scenarios = let\n",
        "    df = CSV.read(\"data/slr_oddo.csv\", DataFrame)\n",
        "    [Oddo17SLR(a, b, c, tstar, cstar) for (a, b, c, tstar, cstar) in eachrow(df)]\n",
        "end"
      ],
      "id": "94ef5a90",
      "execution_count": null,
      "outputs": []
    },
    {
      "cell_type": "markdown",
      "metadata": {},
      "source": [
        "3. Modify my code to create a function to draw samples of storm surge and the discount rate. Explain your modeling choices!\n",
        "\n",
        "I next define the distributions from which storm surges and discount rates will be sampled. The storm surge distribution is a hypothetical generalized extreme value distribution that is not rooted in actul storm data from the area.\n"
      ],
      "id": "7ccc279a"
    },
    {
      "cell_type": "code",
      "metadata": {},
      "source": [
        "function draw_surge_distribution()\n",
        "    μ = rand(Normal(5, 1))\n",
        "    σ = rand(Exponential(1.5))\n",
        "    ξ = rand(Normal(0.1, 0.05))\n",
        "    GeneralizedExtremeValue(μ, σ, ξ)\n",
        "end"
      ],
      "id": "c5cea7ff",
      "execution_count": null,
      "outputs": []
    },
    {
      "cell_type": "markdown",
      "metadata": {},
      "source": [
        "The water level at the house is the water level at the gauge minus the elevation of the house above the gauge. The elevation of the gauge is 6.24 ft above MSL [^1], and the house is at 5.86 ft, so the water level at the house will be 0.38 ft above that at the gauge. \n",
        "\n",
        "[^1]: https://tidesandcurrents.noaa.gov/stationhome.html?id=8771450\n",
        "\n",
        "\n",
        "The discount rate is treated as a random variable drawn from a normal distribution. A more accurate way to estimate the discount rate could be by modeling discount rate with autoregressive techniques, such as in Zarekarizi (2020). \n"
      ],
      "id": "c5a7dfb8"
    },
    {
      "cell_type": "code",
      "metadata": {},
      "source": [
        "#| output: false\n",
        "function draw_discount_rate()\n",
        "    return rand(Normal(0.04, 0.02))\n",
        "end"
      ],
      "id": "78df5f42",
      "execution_count": null,
      "outputs": []
    },
    {
      "cell_type": "markdown",
      "metadata": {},
      "source": [
        "4. Define an illustrative action, SOW, and model parameters, and run a simulation.\n",
        "\n",
        "I will first run a simulation in which the house is elevated 7 ft.\n"
      ],
      "id": "cd699fb4"
    },
    {
      "cell_type": "code",
      "metadata": {},
      "source": [
        "#| output: false\n",
        "a = Action(7.0u\"ft\")"
      ],
      "id": "5dc20114",
      "execution_count": null,
      "outputs": []
    },
    {
      "cell_type": "code",
      "metadata": {},
      "source": [
        "#| output: false\n",
        "p = ModelParams(\n",
        "    house=house,\n",
        "    years=2024:2050\n",
        ")"
      ],
      "id": "2fedc0bc",
      "execution_count": null,
      "outputs": []
    },
    {
      "cell_type": "code",
      "metadata": {},
      "source": [
        "#| output: false\n",
        "sow = SOW(\n",
        "    rand(slr_scenarios),\n",
        "    draw_surge_distribution() + .38,\n",
        "    draw_discount_rate()\n",
        ")"
      ],
      "id": "8ec65466",
      "execution_count": null,
      "outputs": []
    },
    {
      "cell_type": "code",
      "metadata": {},
      "source": [
        "res = run_sim(a, sow, p)"
      ],
      "id": "8c6e9576",
      "execution_count": null,
      "outputs": []
    },
    {
      "cell_type": "markdown",
      "metadata": {},
      "source": [
        "In this simulation, the net present value of raising the house 7 ft is $`$res`.\n",
        "\n",
        "I next run a large ensemble of simulations. Due to limitations in computing power, I will run the simulation 100 times. This time I include a range of options for action in which the building could be elevated from 1 to 14 ft, with the action randomly sampled from a uniform distribution. It is unlikely that a private homeowner would elevate a two story house more than one story.\n"
      ],
      "id": "5aee808e"
    },
    {
      "cell_type": "code",
      "metadata": {},
      "source": [
        "sows = [SOW(rand(slr_scenarios), draw_surge_distribution(), draw_discount_rate()) for _ in 1:100] # for 10 SOWs\n",
        "actions = [Action(rand(1:14)*u\"ft\") for _ in 1:100] # these are all the same\n",
        "results = [run_sim(a, s, p) for (a, s) in zip(actions, sows)]"
      ],
      "id": "b894e6b1",
      "execution_count": null,
      "outputs": []
    },
    {
      "cell_type": "code",
      "metadata": {},
      "source": [
        "df = DataFrame(\n",
        "    npv=results,\n",
        "    Δh_ft=[a.Δh_ft for a in actions],\n",
        "    slr_a=[s.slr.a for s in sows],\n",
        "    slr_b=[s.slr.b for s in sows],\n",
        "    slr_c=[s.slr.c for s in sows],\n",
        "    slr_tstar=[s.slr.tstar for s in sows],\n",
        "    slr_cstar=[s.slr.cstar for s in sows],\n",
        "    surge_μ=[s.surge_dist.μ for s in sows],\n",
        "    surge_σ=[s.surge_dist.σ for s in sows],\n",
        "    surge_ξ=[s.surge_dist.ξ for s in sows],\n",
        "    discount_rate=[s.discount_rate for s in sows],\n",
        ")"
      ],
      "id": "39fb10ee",
      "execution_count": null,
      "outputs": []
    },
    {
      "cell_type": "code",
      "metadata": {},
      "source": [
        "using DataFrames\n",
        "using StatsPlots"
      ],
      "id": "23bbaf8f",
      "execution_count": null,
      "outputs": []
    },
    {
      "cell_type": "code",
      "metadata": {},
      "source": [
        "# Scatterplot of NPV vs. sea-level rise parameters\n",
        "scatter(df.slr_a, df.npv,\n",
        "    xlabel = \"Action (House Elevation)\",\n",
        "    ylabel = \"Net Present Value (NPV)\",\n",
        "    title = \"NPV vs. Sea-Level Rise Parameter 'a'\"\n",
        ")"
      ],
      "id": "3621fb58",
      "execution_count": null,
      "outputs": []
    },
    {
      "cell_type": "code",
      "metadata": {},
      "source": [
        "scatter(df.slr_b, df.npv,\n",
        "    xlabel = \"SLR Parameter 'b'\",\n",
        "    ylabel = \"Net Present Value (NPV)\",\n",
        "    title = \"NPV vs. Sea-Level Rise Parameter 'b'\"\n",
        ")"
      ],
      "id": "cad6de9b",
      "execution_count": null,
      "outputs": []
    },
    {
      "cell_type": "code",
      "metadata": {},
      "source": [
        "scatter(df.slr_c, df.npv,\n",
        "    xlabel = \"SLR Parameter 'c'\",\n",
        "    ylabel = \"Net Present Value (NPV)\",\n",
        "    title = \"NPV vs. Sea-Level Rise Parameter 'c'\"\n",
        ")"
      ],
      "id": "f0960af1",
      "execution_count": null,
      "outputs": []
    },
    {
      "cell_type": "code",
      "metadata": {},
      "source": [
        "scatter(df.slr_tstar, df.npv,\n",
        "    xlabel = \"SLR Parameter 'tstar'\",\n",
        "    ylabel = \"Net Present Value (NPV)\",\n",
        "    title = \"NPV vs. Sea-Level Rise Parameter 'tstar'\"\n",
        ")\n",
        "\n",
        "scatter(df.slr_cstar, df.npv,\n",
        "    xlabel = \"SLR Parameter 'cstar'\",\n",
        "    ylabel = \"Net Present Value (NPV)\",\n",
        "    title = \"NPV vs. Sea-Level Rise Parameter 'cstar'\"\n",
        ")"
      ],
      "id": "633db36e",
      "execution_count": null,
      "outputs": []
    },
    {
      "cell_type": "markdown",
      "metadata": {},
      "source": [
        "The most parameters with the most visually obvious relationship to NPV appear to be the storm surge parameters. \n"
      ],
      "id": "dff05348"
    },
    {
      "cell_type": "code",
      "metadata": {},
      "source": [
        "# Scatterplot of NPV vs. storm surge parameters\n",
        "scatter(df.surge_μ, df.npv,\n",
        "    xlabel = \"Storm Surge Parameter 'μ'\",\n",
        "    ylabel = \"Net Present Value (NPV)\",\n",
        "    title = \"NPV vs. Storm Surge Parameter 'μ'\"\n",
        ")"
      ],
      "id": "d751d1e9",
      "execution_count": null,
      "outputs": []
    },
    {
      "cell_type": "code",
      "metadata": {},
      "source": [
        "scatter(df.surge_σ, df.npv,\n",
        "    xlabel = \"Storm Surge Parameter 'σ'\",\n",
        "    ylabel = \"Net Present Value (NPV)\",\n",
        "    title = \"NPV vs. Storm Surge Parameter 'σ'\"\n",
        ")"
      ],
      "id": "32651f35",
      "execution_count": null,
      "outputs": []
    },
    {
      "cell_type": "code",
      "metadata": {},
      "source": [
        "# Scatterplot of NPV vs. elevation action\n",
        "scatter(df.Δh_ft, df.npv,\n",
        "    xlabel = \"Elevation Action (ft)\",\n",
        "    ylabel = \"Net Present Value (NPV)\",\n",
        "    title = \"NPV vs. Elevation Action\"\n",
        ")\n",
        "\n",
        "# Scatterplot of NPV vs. discount rate\n",
        "scatter(df.discount_rate, df.npv,\n",
        "    xlabel = \"Discount Rate\",\n",
        "    ylabel = \"Net Present Value (NPV)\",\n",
        "    title = \"NPV vs. Discount Rate\"\n",
        ")"
      ],
      "id": "ff581f5b",
      "execution_count": null,
      "outputs": []
    },
    {
      "cell_type": "code",
      "metadata": {},
      "source": [
        "# Correlation matrix of parameters\n",
        "correlation_matrix = cor(Matrix(df[:, [:npv, :Δh_ft, :slr_a, :slr_b, :slr_c, :slr_tstar, :slr_cstar, :surge_μ, :surge_σ, :surge_ξ, :discount_rate]]))\n",
        "\n",
        "correlation_matrix"
      ],
      "id": "58d1357c",
      "execution_count": null,
      "outputs": []
    }
  ],
  "metadata": {
    "kernelspec": {
      "name": "julia-1.10",
      "language": "julia",
      "display_name": "Julia 1.10.0"
    }
  },
  "nbformat": 4,
  "nbformat_minor": 5
}